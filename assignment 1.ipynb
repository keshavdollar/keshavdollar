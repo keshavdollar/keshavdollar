{
 "cells": [
  {
   "cell_type": "markdown",
   "metadata": {},
   "source": [
    "## 2nd question \n",
    "          "
   ]
  },
  {
   "cell_type": "code",
   "execution_count": 3,
   "metadata": {},
   "outputs": [
    {
     "name": "stdout",
     "output_type": "stream",
     "text": [
      "enter your first namekes\n",
      "enter your second nameana\n"
     ]
    },
    {
     "data": {
      "text/plain": [
       "'sek ana'"
      ]
     },
     "execution_count": 3,
     "metadata": {},
     "output_type": "execute_result"
    }
   ],
   "source": [
    "first_name = input(\"enter your first name = \")\n",
    "second_name = input(\"enter your second name = \")\n",
    "first_name[::-1]+str(' ')+second_name[::-1]"
   ]
  },
  {
   "cell_type": "code",
   "execution_count": null,
   "metadata": {},
   "outputs": [],
   "source": [
    "V=4/3 * π * r 3   r=6"
   ]
  },
  {
   "cell_type": "markdown",
   "metadata": {},
   "source": [
    "# 3rd question"
   ]
  },
  {
   "cell_type": "code",
   "execution_count": 17,
   "metadata": {},
   "outputs": [
    {
     "name": "stdout",
     "output_type": "stream",
     "text": [
      "the volume of the sphere is =  904.31\n"
     ]
    }
   ],
   "source": [
    "V = 4/3 * 3.14 * (6**3)\n",
    "a = str(V)\n",
    "print(\"the volume of the sphere is = \",a[0:6])\n"
   ]
  },
  {
   "cell_type": "markdown",
   "metadata": {},
   "source": [
    "# 1 st question"
   ]
  },
  {
   "cell_type": "code",
   "execution_count": 16,
   "metadata": {},
   "outputs": [
    {
     "name": "stdout",
     "output_type": "stream",
     "text": [
      "The number's which are divisible by 7 but are not a multiple of 5, between 2000 and 3200\n",
      "\n",
      "[7, 7, 7, 14, 7, 14, 7, 14, 7, 14, 14, 14, 14, 21, 14, 21, 14, 21, 14, 21, 21, 21, 21, 7, 21, 7, 21, 7, 21, 7, 7, 7, 7, 14, 7, 14, 7, 14, 7, 14, 14, 14, 14, 21, 14, 21, 14, 21, 14, 21, 21, 21, 21, 7, 21, 7, 21, 7, 21, 7, 7, 7, 7, 14, 7, 14, 7, 14, 7, 14, 14, 14, 14, 21, 14, 21, 14, 21, 14, 21, 21, 21, 21, 7, 21, 7, 21, 7, 21, 7, 7, 7, 7, 14, 7, 14, 7, 14, 7, 14, 14, 14, 14, 21, 14, 21, 14, 21, 14, 21, 21, 21, 21, 28, 21, 28, 21, 28, 21, 28, 28, 28, 28, 14, 28, 14, 28, 14, 28, 14, 14, 14, 14, 21, 14, 21, 14, 21, 14, 21, 21, 21, 21, 28, 21, 28, 21, 28, 21, 28, 28, 28, 28, 14, 28, 14, 28, 14, 28, 14, 14, 14, 14, 21, 14, 21, 14, 21, 14, 21, 21]\n"
     ]
    }
   ],
   "source": [
    "num = list(range(2000,3201))\n",
    "las = []\n",
    "for i in num:\n",
    "    ass = str(i)\n",
    "    ass1 = int(ass[3])\n",
    "    ass2 = ass1*2\n",
    "    ass3 =int(ass[0:3])\n",
    "    mi = ass3-ass1\n",
    "    mi1 = str(mi)\n",
    "    mi2 = int(mi1[2])*2\n",
    "    mi3 = int(mi1[0:2])-mi2\n",
    "    if mi3%7==0:\n",
    "        las.append(mi3)\n",
    "print(\"The number's which are divisible by 7 but are not a multiple of 5, between 2000 and 3200\")\n",
    "print()\n",
    "print(las)        "
   ]
  },
  {
   "cell_type": "code",
   "execution_count": null,
   "metadata": {},
   "outputs": [],
   "source": []
  }
 ],
 "metadata": {
  "kernelspec": {
   "display_name": "Python 3",
   "language": "python",
   "name": "python3"
  },
  "language_info": {
   "codemirror_mode": {
    "name": "ipython",
    "version": 3
   },
   "file_extension": ".py",
   "mimetype": "text/x-python",
   "name": "python",
   "nbconvert_exporter": "python",
   "pygments_lexer": "ipython3",
   "version": "3.8.5"
  }
 },
 "nbformat": 4,
 "nbformat_minor": 4
}
